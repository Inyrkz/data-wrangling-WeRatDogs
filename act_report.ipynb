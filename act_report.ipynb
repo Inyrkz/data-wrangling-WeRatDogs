{
 "cells": [
  {
   "cell_type": "markdown",
   "metadata": {},
   "source": [
    "## Report"
   ]
  },
  {
   "cell_type": "markdown",
   "metadata": {},
   "source": [
    "### What is the major source of tweets from WeRateDogs?"
   ]
  },
  {
   "cell_type": "markdown",
   "metadata": {},
   "source": [
    "![\"Twitter Source\"](https://viewf6b31853.udacity-student-workspaces.com/files/WeRateDogsResult/twitter_source.png)"
   ]
  },
  {
   "cell_type": "markdown",
   "metadata": {},
   "source": [
    "From the analysis, `1451` tweets are from `iPhones`, `19` tweets are from `Web Clients` and 7 tweets are from `TweetDeck`."
   ]
  },
  {
   "cell_type": "markdown",
   "metadata": {},
   "source": [
    "## What are the popular dog names of dogs at WeRateDogs?"
   ]
  },
  {
   "cell_type": "markdown",
   "metadata": {},
   "source": [
    "![\"Popular Dog Names\"](https://viewf6b31853.udacity-student-workspaces.com/files/WeRateDogsResult/popular_names.png)"
   ]
  },
  {
   "cell_type": "markdown",
   "metadata": {},
   "source": [
    "The most popular dog names on WeRateDogs are `Cooper, Charlie, Oliver, Tucker, Lucy, Daisy, Penny, Sadie, Winston, and Jax.`"
   ]
  },
  {
   "cell_type": "markdown",
   "metadata": {},
   "source": [
    "## What is the most popular dog status?"
   ]
  },
  {
   "cell_type": "markdown",
   "metadata": {},
   "source": [
    "![\"Popular Dog Status\"](https://viewf6b31853.udacity-student-workspaces.com/files/WeRateDogsResult/dog_status.png)"
   ]
  },
  {
   "cell_type": "markdown",
   "metadata": {},
   "source": [
    "The most popular dog status at WeRateDogs is `pupper`. There are *144* tweets about *puppers*."
   ]
  },
  {
   "cell_type": "markdown",
   "metadata": {},
   "source": [
    "## Which dog breed has the highest average twitter likes?"
   ]
  },
  {
   "cell_type": "markdown",
   "metadata": {},
   "source": [
    "![\"Average twitter likes\"](https://viewf6b31853.udacity-student-workspaces.com/files/WeRateDogsResult/twitter_likes.png)"
   ]
  },
  {
   "cell_type": "markdown",
   "metadata": {},
   "source": [
    "The `Saluki` dog breed has the highest average twitter likes.\n",
    "* The **Saluki** breed has an average like of **24060**.\n",
    "* The **French bulldog** has an average like of `17913`.\n",
    "* The **Afghan hound** has an average like of  `17326`.\n",
    "* The **Black-and-tan coonhound** has an average like of  `17012`.\n",
    "* The **Flat-coated retriever** has an average like of `16791`.\n",
    "* The **Irish water spaniel** has an average like of `16400`.\n",
    "* The **Standard poodle** has an average like of  `15786`.\n",
    "* The **English springer** has an average like of  `15657`.\n",
    "* The **Cardigan** has an average like of  `15311`.\n",
    "* The **Leonberg** has an average like of  `14934`."
   ]
  },
  {
   "cell_type": "markdown",
   "metadata": {},
   "source": [
    "## Which dog breed has the highest average twitter retweet?"
   ]
  },
  {
   "cell_type": "markdown",
   "metadata": {},
   "source": [
    "![\"Average twitter retweets count\"](https://viewf6b31853.udacity-student-workspaces.com/files/WeRateDogsResult/twitter_retweets.png)"
   ]
  },
  {
   "cell_type": "markdown",
   "metadata": {},
   "source": [
    "The `Standard poodle` breed has the highest average retweet count on WeRateDogs.\n",
    "\n",
    "* The **Standard poodle** breed has an average retweet of **6631.**\n",
    "* The **Afghan hound** breed has an average retweet of **5976.**\n",
    "* The **English springer** breed has an average retweet of  **5973.**\n",
    "* The **Saluki** breed has an average retweet of **5133.**\n",
    "* The **Eskimo dog** breed has an average retweet of **4768.**\n",
    "* The **Great pyrenees** breed has an average retweet of **4732.**\n",
    "* The **French bulldog** breed has an average retweet of **4683.**\n",
    "* The **Samoyed** breed has an average retweet of **4623.**\n",
    "* The **Cardigan** breed has an average retweet of **4540.**\n",
    "* The **Flat-coated retriever** breed has an average retweet of **4520.**"
   ]
  },
  {
   "cell_type": "code",
   "execution_count": null,
   "metadata": {},
   "outputs": [],
   "source": []
  }
 ],
 "metadata": {
  "kernelspec": {
   "display_name": "Python 3",
   "language": "python",
   "name": "python3"
  },
  "language_info": {
   "codemirror_mode": {
    "name": "ipython",
    "version": 3
   },
   "file_extension": ".py",
   "mimetype": "text/x-python",
   "name": "python",
   "nbconvert_exporter": "python",
   "pygments_lexer": "ipython3",
   "version": "3.6.3"
  }
 },
 "nbformat": 4,
 "nbformat_minor": 2
}
